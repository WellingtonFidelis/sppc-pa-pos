{
 "cells": [
  {
   "cell_type": "code",
   "execution_count": null,
   "metadata": {},
   "outputs": [],
   "source": [
    "from faker import Faker\n",
    "import random\n",
    "import requests\n",
    "import datetime"
   ]
  },
  {
   "cell_type": "code",
   "execution_count": 2,
   "metadata": {},
   "outputs": [],
   "source": [
    "fake = Faker()"
   ]
  },
  {
   "cell_type": "code",
   "execution_count": 10,
   "metadata": {},
   "outputs": [],
   "source": [
    "def gerar_consumidor():\n",
    "    return {\n",
    "        \"nome\": fake.sentence(nb_words=2).replace(\".\", \"\"),\n",
    "        \"data_nascimento\": fake.date_between(start_date=datetime.datetime(year=1980, month=1, day=1), end_date=datetime.datetime(year=2024, month=12, day=31)),\n",
    "        \"profissao\": fake.job(),\n",
    "        \"fumante\": fake.boolean(),\n",
    "        \"disturbio_circulatorio\": fake.boolean(),\n",
    "        \"epiletico\": fake.boolean(),\n",
    "        \"ciclo_intestinal_regular\": fake.boolean(),\n",
    "        \"funcionamento_intestinal_regular\": fake.boolean(),\n",
    "        \"alteracao_cardiaca\": fake.boolean(),\n",
    "        \"disturbio_hormonal\": fake.boolean(),\n",
    "        \"hipotensao\": fake.boolean(),\n",
    "        \"hipertensao\": fake.boolean(),\n",
    "        \"disturbio_renal\": fake.boolean(),\n",
    "        \"varizes_lesoes\": fake.boolean(),\n",
    "        \"diabetes\": fake.boolean(),\n",
    "        \"tipo_diabetes\": random.choice([\"pre_diabetes\", \"diabetes_tipo_1\", \"diabetes_tipo_2\", \"diabetes_gestacional\"]),\n",
    "        \"diabetes_controlada\": fake.boolean(),\n",
    "        \"tratamento_medico\": fake.boolean(),\n",
    "        \"detalhe_tratamento_medico\": fake.sentence(nb_words=4),\n",
    "        \"cirurgia_recente\": fake.boolean(),\n",
    "        \"detalhe_cirurgia_recente\": fake.sentence(nb_words=4),\n",
    "        \"problema_pele\": fake.boolean(),\n",
    "        \"detalhe_problema_pele\": fake.sentence(nb_words=4),\n",
    "        \"protese_corporal_facial\": fake.boolean(),\n",
    "        \"detalhe_protese_corporal_facial\": fake.sentence(nb_words=4),\n",
    "        \"gestante\": fake.boolean(),\n",
    "        \"semanas_gestante\": random.randint(1, 42),\n",
    "        \"alergia\": fake.boolean(),\n",
    "        \"detalhe_alergia\": fake.sentence(nb_words=4),\n",
    "        \"tumor_lesao_precancerosa\": fake.boolean(),\n",
    "        \"detalhe_tumor_lesao_precancerosa\": fake.sentence(nb_words=4),\n",
    "        \"ortopedico\": fake.boolean(),\n",
    "        \"detalhe_ortopedico\": fake.sentence(nb_words=4),\n",
    "        \"acido\": fake.boolean(),\n",
    "        \"detalhe_acido\": fake.sentence(nb_words=4),\n",
    "        \"outro_problema\": fake.boolean(),\n",
    "        \"detalhe_outro_problema\": fake.sentence(nb_words=4),\n",
    "        \"altura\": random.randint(120, 220),\n",
    "        \"peso\": random.randint(50, 110),\n",
    "        \"busto\": random.randint(50, 200),\n",
    "        \"braco_esquerdo\": random.randint(20, 50),\n",
    "        \"braco_direito\": random.randint(20, 50),\n",
    "        \"abdomen\": random.randint(60, 180),\n",
    "        \"cintura\": random.randint(50, 150),\n",
    "        \"quadril\": random.randint(60, 200),\n",
    "        \"culote\": random.randint(1, 9),\n",
    "        \"coxa_esquerda\": random.randint(30, 60),\n",
    "        \"coxa_direita\": random.randint(30, 60),\n",
    "        \"panturrilha_esquerda\": random.randint(15, 60),\n",
    "        \"panturrilha_direita\": random.randint(15, 60)\n",
    "    }"
   ]
  },
  {
   "cell_type": "code",
   "execution_count": 11,
   "metadata": {},
   "outputs": [],
   "source": [
    "consumidores = [gerar_consumidor() for _ in range(50)]"
   ]
  },
  {
   "cell_type": "code",
   "execution_count": 12,
   "metadata": {},
   "outputs": [
    {
     "data": {
      "text/plain": [
       "{'nome': 'Magazine friend',\n",
       " 'data_nascimento': datetime.date(2004, 11, 11),\n",
       " 'profissao': 'Recycling officer',\n",
       " 'fumante': True,\n",
       " 'disturbio_circulatorio': False,\n",
       " 'epiletico': True,\n",
       " 'ciclo_intestinal_regular': False,\n",
       " 'funcionamento_intestinal_regular': True,\n",
       " 'alteracao_cardiaca': True,\n",
       " 'disturbio_hormonal': False,\n",
       " 'hipotensao': False,\n",
       " 'hipertensao': True,\n",
       " 'disturbio_renal': False,\n",
       " 'varizes_lesoes': True,\n",
       " 'diabetes': False,\n",
       " 'tipo_diabetes': 'pre_diabetes',\n",
       " 'diabetes_controlada': False,\n",
       " 'tratamento_medico': False,\n",
       " 'detalhe_tratamento_medico': 'Reach military mean.',\n",
       " 'cirurgia_recente': False,\n",
       " 'detalhe_cirurgia_recente': 'Identify pass dog pick.',\n",
       " 'problema_pele': False,\n",
       " 'detalhe_problema_pele': 'Customer environment allow stand.',\n",
       " 'protese_corporal_facial': False,\n",
       " 'detalhe_protese_corporal_facial': 'Area among expert bar open.',\n",
       " 'gestante': True,\n",
       " 'semanas_gestante': 33,\n",
       " 'alergia': False,\n",
       " 'detalhe_alergia': 'Expert table share.',\n",
       " 'tumor_lesao_precancerosa': True,\n",
       " 'detalhe_tumor_lesao_precancerosa': 'Almost new note one.',\n",
       " 'ortopedico': True,\n",
       " 'detalhe_ortopedico': 'Specific leader strong teach national.',\n",
       " 'acido': False,\n",
       " 'detalhe_acido': 'Conference recent describe its.',\n",
       " 'outro_problema': True,\n",
       " 'detalhe_outro_problema': 'Professional exist grow career.',\n",
       " 'altura': 183,\n",
       " 'peso': 100,\n",
       " 'busto': 171,\n",
       " 'braco_esquerdo': 29,\n",
       " 'braco_direito': 39,\n",
       " 'abdomen': 107,\n",
       " 'cintura': 65,\n",
       " 'quadril': 82,\n",
       " 'culote': 4,\n",
       " 'coxa_esquerda': 43,\n",
       " 'coxa_direita': 46,\n",
       " 'panturrilha_esquerda': 38,\n",
       " 'panturrilha_direita': 21}"
      ]
     },
     "execution_count": 12,
     "metadata": {},
     "output_type": "execute_result"
    }
   ],
   "source": [
    "consumidores[6]"
   ]
  },
  {
   "cell_type": "code",
   "execution_count": 15,
   "metadata": {},
   "outputs": [],
   "source": [
    "base_url = \"http://127.0.0.1:8000/api/v1\"\n",
    "endpoint = \"/consumidor\""
   ]
  },
  {
   "cell_type": "code",
   "execution_count": null,
   "metadata": {},
   "outputs": [
    {
     "name": "stdout",
     "output_type": "stream",
     "text": [
      "Boy\n",
      "Citizen attention\n",
      "Program\n",
      "Glass\n",
      "Education look\n",
      "Anyone\n",
      "Magazine friend\n",
      "Money\n",
      "Fall meeting\n",
      "Situation program\n",
      "Year consider\n",
      "Other\n",
      "Cut\n",
      "Tough stuff\n",
      "Ahead west\n",
      "Wind audience\n",
      "Growth\n",
      "Page describe\n",
      "Before beautiful\n",
      "Whom\n",
      "Green help\n",
      "Audience charge\n",
      "Prove sell\n",
      "Shoulder\n",
      "With\n",
      "Everybody\n",
      "Itself\n",
      "Language century\n",
      "There\n",
      "Beautiful follow\n",
      "Service serve\n",
      "Discover\n",
      "Kid surface\n",
      "There want\n",
      "Surface\n",
      "Somebody\n",
      "Prepare information\n",
      "Beat\n",
      "Per mother\n",
      "Shoulder student\n",
      "Girl\n",
      "Reduce threat\n",
      "Occur\n",
      "Style\n",
      "Seem\n",
      "Tree behavior\n",
      "Think\n",
      "Catch\n",
      "Authority\n",
      "Understand\n"
     ]
    }
   ],
   "source": [
    "for c in consumidores:\n",
    "    # response = requests.post(url=base_url+endpoint, data=c)\n",
    "    print(c[\"nome\"])"
   ]
  }
 ],
 "metadata": {
  "kernelspec": {
   "display_name": "Python 3",
   "language": "python",
   "name": "python3"
  },
  "language_info": {
   "codemirror_mode": {
    "name": "ipython",
    "version": 3
   },
   "file_extension": ".py",
   "mimetype": "text/x-python",
   "name": "python",
   "nbconvert_exporter": "python",
   "pygments_lexer": "ipython3",
   "version": "3.10.15"
  }
 },
 "nbformat": 4,
 "nbformat_minor": 2
}
