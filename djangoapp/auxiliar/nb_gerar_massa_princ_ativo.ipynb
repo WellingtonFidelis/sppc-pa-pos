{
 "cells": [
  {
   "cell_type": "code",
   "execution_count": 9,
   "metadata": {},
   "outputs": [],
   "source": [
    "import requests"
   ]
  },
  {
   "cell_type": "code",
   "execution_count": 12,
   "metadata": {},
   "outputs": [],
   "source": [
    "principais_principios_ativos = [\n",
    "    \"Ácido Hialurônico\",\n",
    "    \"Retinol\",\n",
    "    \"Vitamina C\",\n",
    "    \"Niacinamida\",\n",
    "    \"Ácido Salicílico\",\n",
    "    \"Ácido Glicólico\",\n",
    "    \"Peptídeos\",\n",
    "    \"Filtros Solares\",\n",
    "    \"Ácido Láctico\",\n",
    "    \"Ácido Kójico\",\n",
    "    \"Alfa Arbutin\",\n",
    "    \"Cafeína\",\n",
    "    \"Aloe vera\",\n",
    "    \"Ácido Ferúlico\",\n",
    "    \"Ceramidas\",\n",
    "    \"Niacinamida\",\n",
    "    \"Ácido Hialurônico\",\n",
    "]"
   ]
  },
  {
   "cell_type": "code",
   "execution_count": 15,
   "metadata": {},
   "outputs": [],
   "source": [
    "url = \"http://127.0.0.1:8000/api/v1/principio-ativo\""
   ]
  },
  {
   "cell_type": "code",
   "execution_count": null,
   "metadata": {},
   "outputs": [
    {
     "name": "stdout",
     "output_type": "stream",
     "text": [
      "<Response [200]>\n",
      "<Response [200]>\n",
      "<Response [200]>\n",
      "<Response [200]>\n",
      "<Response [200]>\n",
      "<Response [200]>\n",
      "<Response [200]>\n",
      "<Response [200]>\n",
      "<Response [200]>\n",
      "<Response [200]>\n",
      "<Response [200]>\n",
      "<Response [200]>\n",
      "<Response [200]>\n",
      "<Response [200]>\n",
      "<Response [200]>\n",
      "<Response [200]>\n",
      "<Response [200]>\n"
     ]
    }
   ],
   "source": [
    "for ppa in principais_principios_ativos:\n",
    "    # response = requests.post(url=url, data={\"nome\": ppa})\n",
    "    print(ppa[\"nome\"])"
   ]
  }
 ],
 "metadata": {
  "kernelspec": {
   "display_name": "Python 3",
   "language": "python",
   "name": "python3"
  },
  "language_info": {
   "codemirror_mode": {
    "name": "ipython",
    "version": 3
   },
   "file_extension": ".py",
   "mimetype": "text/x-python",
   "name": "python",
   "nbconvert_exporter": "python",
   "pygments_lexer": "ipython3",
   "version": "3.10.15"
  }
 },
 "nbformat": 4,
 "nbformat_minor": 2
}
